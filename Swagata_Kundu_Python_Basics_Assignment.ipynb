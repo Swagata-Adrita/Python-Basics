{
 "cells": [
  {
   "cell_type": "markdown",
   "id": "51d677d7",
   "metadata": {},
   "source": [
    "# Assignment of Python Basics by Swagata Kundu\n",
    "\n",
    "## Theory Questions:"
   ]
  },
  {
   "cell_type": "markdown",
   "id": "339decbb",
   "metadata": {},
   "source": [
    "### 1. What is Python, and why is it popular?\n",
    "\n",
    "Python is a high-level, interpreted programming language known for its readability, simplicity, and flexibility. Here are some key reasons why Python is so popular:\n",
    "\n",
    "- #### Ease of Learning and Use:\n",
    "Python has a clean and straightforward syntax that resembles natural language, making it accessible to beginners and experienced programmers alike.\n",
    "\n",
    "- #### Versatility:\n",
    "Python can be used for a wide range of applications, including web development, data analysis, machine learning, artificial intelligence, scientific computing, automation, and more.\n",
    "\n",
    "- #### Extensive Libraries and Frameworks:\n",
    "Python boasts a rich ecosystem of libraries and frameworks, such as Django, Flask, Pandas, NumPy, and TensorFlow, which significantly speed up development and reduce the need for writing code from scratch.\n",
    "\n",
    "- #### Community Support:\n",
    "Python has a large and active community of developers, which means abundant resources, tutorials, documentation, and third-party tools are readily available. This also fosters continuous improvement and innovation within the language.\n",
    "\n",
    "- #### Cross-Platform Compatibility:\n",
    "Python is cross-platform, meaning it can run on various operating systems like Windows, macOS, and Linux without requiring major changes to the codebase.\n",
    "\n",
    "- #### Industry Adoption:\n",
    "Many tech giants and companies use Python for their software development, making it a sought-after skill in the job market.\n",
    "\n",
    "- #### Automation and Scripting:\n",
    "Python is excellent for automating repetitive tasks and scripting, making it a valuable tool for IT professionals and developers who need to streamline their workflows.\n",
    "\n"
   ]
  },
  {
   "cell_type": "markdown",
   "id": "b61173e7",
   "metadata": {},
   "source": [
    "### 2. What is an interpreter in Python?\n",
    "\n",
    "An interpreter in Python is a program that reads and executes Python code. Unlike a compiler, which translates code into machine language all at once, an interpreter translates and runs the code line-by-line. This means you can run Python code directly without needing to compile it first.\n",
    "\n",
    "Here are some key points about the Python interpreter:\n",
    "\n",
    "- #### Interactive Mode:\n",
    "You can use the Python interpreter in an interactive mode, which allows you to type and execute code one line at a time. This is great for testing small code snippets or learning the language.\n",
    "\n",
    "- #### Script Mode:\n",
    "The interpreter can also execute entire scripts. You write your Python code in a .py file, and the interpreter reads and executes the file's content from top to bottom.\n",
    "\n",
    "- #### Dynamic Typing:\n",
    "Because the interpreter processes code line-by-line, it supports dynamic typing. This means variable types are determined at runtime, which adds to Python's flexibility.\n",
    "\n",
    "- #### Error Handling:\n",
    "When an error occurs, the interpreter halts the execution and provides an error message, making it easier to debug the code.\n",
    "\n",
    "- #### Portability:\n",
    "Python interpreters are available for various operating systems, including Windows, macOS, and Linux, making Python code highly portable.\n",
    "\n",
    "The interpreter is a key component that makes Python powerful and easy to use, especially for beginners."
   ]
  },
  {
   "cell_type": "markdown",
   "id": "7a4d092d",
   "metadata": {},
   "source": [
    "### 3. What are pre-defined keywords in Python?\n",
    "In Python, predefined keywords are reserved words that have special meaning and cannot be used as identifiers (variable names, function names, etc.). These keywords are part of the syntax and structure of the language. Here is a list of some of the most commonly used Python keywords:\n",
    "    \n",
    "####   The pre-defined keywords are: "
   ]
  },
  {
   "cell_type": "code",
   "execution_count": 3,
   "id": "653dc574",
   "metadata": {},
   "outputs": [
    {
     "ename": "SyntaxError",
     "evalue": "invalid syntax (3735451717.py, line 1)",
     "output_type": "error",
     "traceback": [
      "\u001b[0;36m  File \u001b[0;32m\"/tmp/ipykernel_406599/3735451717.py\"\u001b[0;36m, line \u001b[0;32m1\u001b[0m\n\u001b[0;31m    False\tBoolean value indicating false\u001b[0m\n\u001b[0m         \t      ^\u001b[0m\n\u001b[0;31mSyntaxError\u001b[0m\u001b[0;31m:\u001b[0m invalid syntax\n"
     ]
    }
   ],
   "source": [
    "False\tBoolean value indicating false\n",
    "True\tBoolean value indicating true\n",
    "None\tRepresents the absence of a value\n",
    "and\tLogical AND operator\n",
    "or\tLogical OR operator\n",
    "not\tLogical NOT operator\n",
    "if\tConditional statement\n",
    "else\tConditional statement\n",
    "elif\tElse-if conditional statement\n",
    "for\tLooping statement\n",
    "while\tLooping statement\n",
    "break\tExits the current loop\n",
    "continue\tSkips the rest of the current loop iteration\n",
    "return\tReturns a value from a function\n",
    "def\tDefines a function\n",
    "class\tDefines a class\n",
    "try\tStarts a block of code to test for exceptions\n",
    "except\tCatches exceptions raised in the try block\n",
    "finally\tExecutes code after the try block, regardless of outcome\n",
    "import\tImports a module\n",
    "from\tImports specific attributes from a module\n",
    "as\tCreates an alias\n",
    "global\tDeclares a global variable\n",
    "nonlocal\tDeclares a non-local variable\n",
    "assert\tAsserts a condition (for debugging)\n",
    "with\tSimplifies exception handling for clean-up code\n",
    "lambda\tCreates an anonymous function\n",
    "pass\tPlaceholder statement\n",
    "yield\tPauses function and returns an iterator"
   ]
  },
  {
   "cell_type": "markdown",
   "id": "2f38cbb6",
   "metadata": {},
   "source": [
    "### 4.  Can keywords be used as variable names?\n",
    "No, keywords cannot be used as variable names in Python. Since keywords have special meaning and are reserved by the language, using them as variable names would cause a syntax error."
   ]
  },
  {
   "cell_type": "markdown",
   "id": "4e8740e3",
   "metadata": {},
   "source": [
    "### 5. What is mutability in Python?\n",
    "Mutability refers to the ability of an object to change its state or content after it has been created. In Python, some objects are mutable, meaning their values can be altered, while others are immutable, meaning their values cannot be changed once they are created.\n",
    "\n",
    "Mutable Objects\n",
    "Mutable objects can be modified after creation. Common examples of mutable objects in Python include:\n",
    "\n",
    "- #### Lists: You can change the elements, add new elements, or remove elements."
   ]
  },
  {
   "cell_type": "code",
   "execution_count": 4,
   "id": "ea0abe73",
   "metadata": {},
   "outputs": [],
   "source": [
    "my_list = [1, 2, 3]\n",
    "my_list[0] = 10       # Modify an element\n",
    "my_list.append(4)     # Add an element\n",
    "my_list.remove(2)     # Remove an element"
   ]
  },
  {
   "cell_type": "markdown",
   "id": "2252de49",
   "metadata": {},
   "source": [
    "- #### Dictionaries: You can change the values, add new key-value pairs, or remove key-value pairs."
   ]
  },
  {
   "cell_type": "code",
   "execution_count": 5,
   "id": "ded2bb8e",
   "metadata": {},
   "outputs": [],
   "source": [
    "my_dict = {\"a\": 1, \"b\": 2}\n",
    "my_dict[\"a\"] = 10     # Modify a value\n",
    "my_dict[\"c\"] = 3      # Add a key-value pair\n",
    "del my_dict[\"b\"]      # Remove a key-value pair\n"
   ]
  },
  {
   "cell_type": "markdown",
   "id": "008200a6",
   "metadata": {},
   "source": [
    "### 6.Why are lists mutable, but tuples are immutable?\n",
    "\n",
    "- #### Lists:\n",
    "Lists are designed to be dynamic, flexible collections of items. This flexibility allows one to:\n",
    "\n",
    "    Add elements\n",
    "\n",
    "    Remove elements\n",
    "\n",
    "    Modify existing elements\n",
    "\n",
    "    This mutability makes lists ideal for use cases where you need to frequently change the contents of the collection, such as managing a dynamic dataset or implementing algorithms that require in-place modifications.\n",
    "\n",
    "    Example:\n",
    "\n",
    "\n"
   ]
  },
  {
   "cell_type": "code",
   "execution_count": 6,
   "id": "139d48f8",
   "metadata": {},
   "outputs": [],
   "source": [
    "my_list = [1, 2, 3]\n",
    "my_list[0] = 10      # Modify an element\n",
    "my_list.append(4)    # Add an element\n",
    "my_list.remove(2)    # Remove an element\n"
   ]
  },
  {
   "cell_type": "markdown",
   "id": "d0904bf7",
   "metadata": {},
   "source": [
    " - #### Tuples\n",
    "Tuples, on the other hand, are designed to be immutable, meaning their contents cannot be changed once they are created. This immutability provides several advantages:\n",
    "\n",
    "    Data Integrity: Tuples ensure that the data remains constant and cannot be altered accidentally.\n",
    "\n",
    "    Hashability: Because tuples are immutable, they can be used as keys in dictionaries and stored in sets, which require their elements to be hashable.\n",
    "\n",
    "    Performance: Immutability can lead to performance optimizations, as the interpreter knows the data will not change and can make certain assumptions during execution.\n",
    "\n",
    "    Tuples are ideal for use cases where you want to create a fixed collection of items that should not change, such as representing a point in a coordinate system or returning multiple values from a function.\n",
    "\n",
    "    Example:"
   ]
  },
  {
   "cell_type": "code",
   "execution_count": 7,
   "id": "b36e08be",
   "metadata": {},
   "outputs": [],
   "source": [
    "my_tuple = (1, 2, 3)\n",
    "# Attempting to modify my_tuple[0] = 10 will result in an error\n"
   ]
  },
  {
   "cell_type": "markdown",
   "id": "bc32b1a2",
   "metadata": {},
   "source": [
    "### 7.What is the difference between “==” and “is” operators in Python?\n",
    "\n",
    " - In Python, \" == \"  and \" is \"  are two distinct operators that serve different purposes:\n",
    "\n",
    "- == Operator\n",
    "    Purpose: The == operator is used to compare the values of two objects to check if they are equal.\n",
    "\n",
    "    Example:"
   ]
  },
  {
   "cell_type": "code",
   "execution_count": 8,
   "id": "7e858c8e",
   "metadata": {},
   "outputs": [
    {
     "name": "stdout",
     "output_type": "stream",
     "text": [
      "True\n"
     ]
    }
   ],
   "source": [
    "a = [1, 2, 3]\n",
    "b = [1, 2, 3]\n",
    "print(a == b)  # Output: True (because the values in both lists are the same)\n"
   ]
  },
  {
   "cell_type": "markdown",
   "id": "e5cfd2e7",
   "metadata": {},
   "source": [
    "- \" is \"  Operator: \n",
    "\n",
    "    Purpose: The is operator is used to check if two objects refer to the same memory location (i.e., if they are the same object).\n",
    "\n",
    "    Example:"
   ]
  },
  {
   "cell_type": "code",
   "execution_count": 9,
   "id": "b2d3980b",
   "metadata": {},
   "outputs": [
    {
     "name": "stdout",
     "output_type": "stream",
     "text": [
      "False\n",
      "True\n"
     ]
    }
   ],
   "source": [
    "a = [1, 2, 3]\n",
    "b = [1, 2, 3]\n",
    "print(a is b)  # Output: False (because `a` and `b` are different objects in memory)\n",
    "c = a\n",
    "print(a is c)  # Output: True (because `a` and `c` refer to the same object)\n"
   ]
  },
  {
   "cell_type": "markdown",
   "id": "c3ca0c52",
   "metadata": {},
   "source": [
    "### 8. What are logical operators in Python?\n",
    "\n",
    "Logical operators in Python are used to combine conditional statements and control the flow of logic in your code. Here are the three main logical operators:\n",
    "\n",
    "- 1. \" and \" Operator:\n",
    "    Usage: Returns True if both operands are true.\n",
    "\n",
    "    Example:"
   ]
  },
  {
   "cell_type": "code",
   "execution_count": 16,
   "id": "03e62736",
   "metadata": {},
   "outputs": [
    {
     "name": "stdout",
     "output_type": "stream",
     "text": [
      "False\n"
     ]
    }
   ],
   "source": [
    "x = True\n",
    "y = False\n",
    "result = x and y  # Output: False (because y is False)\n",
    "print(result)"
   ]
  },
  {
   "cell_type": "markdown",
   "id": "2e78f3d3",
   "metadata": {},
   "source": [
    "- 2. \" or \" Operator\n",
    "    Usage: Returns True if at least one of the operands is true.\n",
    "\n",
    "    Example:"
   ]
  },
  {
   "cell_type": "code",
   "execution_count": 17,
   "id": "3f0579d4",
   "metadata": {},
   "outputs": [
    {
     "name": "stdout",
     "output_type": "stream",
     "text": [
      "True\n"
     ]
    }
   ],
   "source": [
    "x = True\n",
    "y = False\n",
    "result = x or y  # Output: True (because x is True)\n",
    "print(result)"
   ]
  },
  {
   "cell_type": "markdown",
   "id": "9dfffe6a",
   "metadata": {},
   "source": [
    "- 3. \" not \" Operator\n",
    "    Usage: Returns True if the operand is false, and returns False if the operand is true. It inverts the boolean value.\n",
    "\n",
    "    Example:"
   ]
  },
  {
   "cell_type": "code",
   "execution_count": 15,
   "id": "f1086d9e",
   "metadata": {},
   "outputs": [
    {
     "name": "stdout",
     "output_type": "stream",
     "text": [
      "False\n"
     ]
    }
   ],
   "source": [
    "x = True\n",
    "result = not x  # Output: False (because x is True)\n",
    "print(result)"
   ]
  },
  {
   "cell_type": "markdown",
   "id": "e152b97c",
   "metadata": {},
   "source": [
    "### 9.What is type casting in Python?\n",
    "- Type casting, also known as type conversion, is the process of converting a value from one data type to another. In Python, this can be done using built-in functions. There are two main types of type casting: implicit and explicit.\n"
   ]
  },
  {
   "cell_type": "markdown",
   "id": "1d4e43f9",
   "metadata": {},
   "source": [
    "### 10 What is the difference between implicit and explicit type casting?\n",
    "    \n",
    "  - #### Implicit Type Casting:\n",
    "    \n",
    "    Implicit type casting is performed automatically by Python when it converts one data type to another during an operation. This usually happens when there is no risk of data loss.\n",
    "\n",
    "    Example:"
   ]
  },
  {
   "cell_type": "code",
   "execution_count": 18,
   "id": "9a28084a",
   "metadata": {},
   "outputs": [
    {
     "name": "stdout",
     "output_type": "stream",
     "text": [
      "13.5\n",
      "<class 'float'>\n"
     ]
    }
   ],
   "source": [
    "x = 10    # Integer\n",
    "y = 3.5   # Float\n",
    "\n",
    "result = x + y  # Implicitly converts x to a float\n",
    "print(result)   # Output: 13.5\n",
    "print(type(result))  # Output: <class 'float'>\n"
   ]
  },
  {
   "cell_type": "markdown",
   "id": "1b48cccc",
   "metadata": {},
   "source": [
    "- #### Explicit Type Casting:\n",
    "    Explicit type casting is when you manually convert a value from one data type to another using built-in functions. Here are some common functions for type casting:\n",
    "\n",
    "    - int(): Converts a value to an integer."
   ]
  },
  {
   "cell_type": "code",
   "execution_count": 19,
   "id": "acc527c3",
   "metadata": {},
   "outputs": [
    {
     "name": "stdout",
     "output_type": "stream",
     "text": [
      "3\n"
     ]
    }
   ],
   "source": [
    "x = 3.14\n",
    "y = int(x)\n",
    "print(y)  # Output: 3"
   ]
  },
  {
   "cell_type": "markdown",
   "id": "7c676234",
   "metadata": {},
   "source": [
    "- float(): Converts a value to a float.\n",
    "\n"
   ]
  },
  {
   "cell_type": "code",
   "execution_count": 20,
   "id": "a2b27466",
   "metadata": {},
   "outputs": [
    {
     "name": "stdout",
     "output_type": "stream",
     "text": [
      "42.0\n"
     ]
    }
   ],
   "source": [
    "x = \"42\"\n",
    "y = float(x)\n",
    "print(y)  # Output: 42.0"
   ]
  },
  {
   "cell_type": "markdown",
   "id": "12e179c3",
   "metadata": {},
   "source": [
    "- str(): Converts a value to a string.\n"
   ]
  },
  {
   "cell_type": "code",
   "execution_count": 22,
   "id": "e5b9a359",
   "metadata": {},
   "outputs": [
    {
     "name": "stdout",
     "output_type": "stream",
     "text": [
      "10\n"
     ]
    }
   ],
   "source": [
    "x = 10\n",
    "y = str(x)\n",
    "print(y)  # Output: \"10\""
   ]
  },
  {
   "cell_type": "markdown",
   "id": "b58aee7a",
   "metadata": {},
   "source": [
    "### 11. What is the purpose of conditional statements in Python?\n",
    "\n",
    "Conditional statements in Python are used to execute specific blocks of code based on whether certain conditions are met. They enable your program to make decisions and perform different actions depending on the input or state of variables. Here are the key purposes and components of conditional statements:\n",
    "\n",
    "Making Decisions:\n",
    "Conditional statements allow your code to decide which actions to take based on logical conditions. This makes your program more dynamic and responsive to different scenarios.\n",
    "\n",
    "Components of Conditional Statements:\n",
    "- #### \" if \" Statement: \n",
    "    The if statement checks a condition, and if the condition is true, it executes the associated block of code."
   ]
  },
  {
   "cell_type": "code",
   "execution_count": 24,
   "id": "00d163a1",
   "metadata": {},
   "outputs": [
    {
     "name": "stdout",
     "output_type": "stream",
     "text": [
      "x is greater than 5\n"
     ]
    }
   ],
   "source": [
    "x = 10\n",
    "if x > 5:\n",
    "    print(\"x is greater than 5\")\n"
   ]
  },
  {
   "cell_type": "markdown",
   "id": "de3478df",
   "metadata": {},
   "source": [
    "- #### \" else \" Statement: \n",
    "    The else statement follows an if statement and executes a block of code if the condition in the if statement is false."
   ]
  },
  {
   "cell_type": "code",
   "execution_count": 25,
   "id": "0057d439",
   "metadata": {},
   "outputs": [
    {
     "name": "stdout",
     "output_type": "stream",
     "text": [
      "x is not greater than 15\n"
     ]
    }
   ],
   "source": [
    "x = 10\n",
    "if x > 15:\n",
    "    print(\"x is greater than 15\")\n",
    "else:\n",
    "    print(\"x is not greater than 15\")\n"
   ]
  },
  {
   "cell_type": "markdown",
   "id": "4a4739c4",
   "metadata": {},
   "source": [
    "- #### \" elif \" Statement: \n",
    "    The elif (else if) statement allows you to check multiple conditions sequentially. If the if condition is false, it checks the elif condition(s)."
   ]
  },
  {
   "cell_type": "code",
   "execution_count": 26,
   "id": "0ea25121",
   "metadata": {},
   "outputs": [
    {
     "name": "stdout",
     "output_type": "stream",
     "text": [
      "x is greater than 5 but not greater than 15\n"
     ]
    }
   ],
   "source": [
    "x = 10\n",
    "if x > 15:\n",
    "    print(\"x is greater than 15\")\n",
    "elif x > 5:\n",
    "    print(\"x is greater than 5 but not greater than 15\")\n",
    "else:\n",
    "    print(\"x is 5 or less\")\n"
   ]
  },
  {
   "cell_type": "markdown",
   "id": "e2a4a825",
   "metadata": {},
   "source": [
    "### 12.How does the elif statement work?\n",
    "The \" elif \" statement in Python stands for \"else if\" and is used to check multiple conditions in a sequence after an initial \" if \" statement. If the \" if \" condition is false, the interpreter checks the \" elif \" condition(s). If an \" elif \" condition is true, its associated block of code is executed, and the rest of the \" elif \" and else statements are skipped.\n",
    "\n",
    "Example:"
   ]
  },
  {
   "cell_type": "code",
   "execution_count": 28,
   "id": "3631ef96",
   "metadata": {},
   "outputs": [
    {
     "name": "stdout",
     "output_type": "stream",
     "text": [
      "You are an adult.\n"
     ]
    }
   ],
   "source": [
    "age = 25\n",
    "\n",
    "if age < 18:\n",
    "    print(\"You are a minor.\")\n",
    "elif age < 65:\n",
    "    print(\"You are an adult.\")\n",
    "else:\n",
    "    print(\"You are a senior citizen.\")\n"
   ]
  },
  {
   "cell_type": "markdown",
   "id": "bdb83c85",
   "metadata": {},
   "source": [
    " ### 13. What is the difference between for and while loops?\n",
    "In Python, \" for \" and \" while \" loops are used for iteration, but they serve different purposes and have different syntax. Here's a comparison:\n",
    "\n",
    "- #### \" for \" Loop\n",
    "    Purpose: \n",
    "    \n",
    "    Iterates over a sequence (e.g., list, tuple, string, range) and executes a block of code for each element in the sequence.\n",
    "    \n",
    "    Example:"
   ]
  },
  {
   "cell_type": "code",
   "execution_count": 31,
   "id": "bee3c625",
   "metadata": {},
   "outputs": [
    {
     "name": "stdout",
     "output_type": "stream",
     "text": [
      "apple\n",
      "banana\n",
      "cherry\n"
     ]
    }
   ],
   "source": [
    "fruits = [\"apple\", \"banana\", \"cherry\"]\n",
    "for fruit in fruits:\n",
    "    print(fruit)\n"
   ]
  },
  {
   "cell_type": "markdown",
   "id": "a5e5b8f6",
   "metadata": {},
   "source": [
    "     In this example, the \" for \" loop iterates over each element in the fruits list and prints each fruit."
   ]
  },
  {
   "cell_type": "markdown",
   "id": "a190ff85",
   "metadata": {},
   "source": [
    "- #### \" while \" Loop:\n",
    "\n",
    "    Purpose: Repeats a block of code as long as a specified condition is true."
   ]
  },
  {
   "cell_type": "code",
   "execution_count": 32,
   "id": "d307f904",
   "metadata": {},
   "outputs": [
    {
     "name": "stdout",
     "output_type": "stream",
     "text": [
      "0\n",
      "1\n",
      "2\n",
      "3\n",
      "4\n"
     ]
    }
   ],
   "source": [
    "count = 0\n",
    "while count < 5:\n",
    "    print(count)\n",
    "    count += 1\n"
   ]
  },
  {
   "cell_type": "markdown",
   "id": "fd44c2c2",
   "metadata": {},
   "source": [
    "### 14.,Describe a scenario where a while loop is more suitable than a for loop.\n",
    "\n",
    "- A while loop is more suitable than a for loop in scenarios where the number of iterations is not known beforehand and depends on dynamic conditions. Here's an example scenario:\n",
    "\n",
    "    #### User Input Validation\n",
    "    Suppose one is developing a program that requires the user to enter a valid password. She wants to keep prompting the user until they enter a password that meets certain criteria, such as a minimum length and containing both letters and numbers. In this case, the while loop is more suitable because she does not know how many attempts the user will need to enter a valid password.\n",
    "\n",
    "    Example Code:"
   ]
  },
  {
   "cell_type": "code",
   "execution_count": 34,
   "id": "634a19ea",
   "metadata": {},
   "outputs": [
    {
     "name": "stdout",
     "output_type": "stream",
     "text": [
      "Enter a valid password (at least 8 characters, must contain both letters and numbers): kl123\n",
      "Enter a valid password (at least 8 characters, must contain both letters and numbers): Arnab1234\n",
      "Password accepted!\n"
     ]
    }
   ],
   "source": [
    "# Function to check if the password is valid\n",
    "def is_valid_password(password):\n",
    "    if len(password) < 8:\n",
    "        return False\n",
    "    has_digit = any(char.isdigit() for char in password)\n",
    "    has_letter = any(char.isalpha() for char in password)\n",
    "    return has_digit and has_letter\n",
    "\n",
    "# Prompt the user to enter a valid password\n",
    "password = \"\"\n",
    "while not is_valid_password(password):\n",
    "    password = input(\"Enter a valid password (at least 8 characters, must contain both letters and numbers): \")\n",
    "\n",
    "print(\"Password accepted!\")\n"
   ]
  },
  {
   "cell_type": "markdown",
   "id": "2df25631",
   "metadata": {},
   "source": [
    "# Practical Questions:"
   ]
  },
  {
   "cell_type": "markdown",
   "id": "471078e8",
   "metadata": {},
   "source": [
    "### 1. Write a Python program to print \"Hello, World!"
   ]
  },
  {
   "cell_type": "code",
   "execution_count": 36,
   "id": "d1833ca8",
   "metadata": {},
   "outputs": [
    {
     "name": "stdout",
     "output_type": "stream",
     "text": [
      "Hello, World!\n"
     ]
    }
   ],
   "source": [
    "# This is a Python program to print \"Hello, World!\"\n",
    "print(\"Hello, World!\")\n"
   ]
  },
  {
   "cell_type": "markdown",
   "id": "565c6c54",
   "metadata": {},
   "source": [
    "### 2. Write a Python program that displays your name and age"
   ]
  },
  {
   "cell_type": "code",
   "execution_count": 38,
   "id": "88e2cd0b",
   "metadata": {},
   "outputs": [
    {
     "name": "stdout",
     "output_type": "stream",
     "text": [
      "Name: Swagata Kundu\n",
      "Age: 25\n"
     ]
    }
   ],
   "source": [
    "# Python program to display name and age\n",
    "\n",
    "# Define variables for name and age\n",
    "name = \"Swagata Kundu\"\n",
    "age = 25\n",
    "\n",
    "# Print name and age\n",
    "print(\"Name:\", name)\n",
    "print(\"Age:\", age)\n"
   ]
  },
  {
   "cell_type": "markdown",
   "id": "2b4ae24c",
   "metadata": {},
   "source": [
    "### 3. Write code to print all the pre-defined keywords in Python using the keyword library"
   ]
  },
  {
   "cell_type": "code",
   "execution_count": 40,
   "id": "aaed82e5",
   "metadata": {},
   "outputs": [
    {
     "name": "stdout",
     "output_type": "stream",
     "text": [
      "False\n",
      "None\n",
      "True\n",
      "and\n",
      "as\n",
      "assert\n",
      "async\n",
      "await\n",
      "break\n",
      "class\n",
      "continue\n",
      "def\n",
      "del\n",
      "elif\n",
      "else\n",
      "except\n",
      "finally\n",
      "for\n",
      "from\n",
      "global\n",
      "if\n",
      "import\n",
      "in\n",
      "is\n",
      "lambda\n",
      "nonlocal\n",
      "not\n",
      "or\n",
      "pass\n",
      "raise\n",
      "return\n",
      "try\n",
      "while\n",
      "with\n",
      "yield\n"
     ]
    }
   ],
   "source": [
    "import keyword\n",
    "\n",
    "# Get the list of all Python keywords\n",
    "keywords = keyword.kwlist\n",
    "\n",
    "# Print each keyword\n",
    "for kw in keywords:\n",
    "    print(kw)\n"
   ]
  },
  {
   "cell_type": "markdown",
   "id": "453f96e1",
   "metadata": {},
   "source": [
    "### 4. Write a program that checks if a given word is a Python keyword."
   ]
  },
  {
   "cell_type": "code",
   "execution_count": 42,
   "id": "648d52f5",
   "metadata": {},
   "outputs": [
    {
     "name": "stdout",
     "output_type": "stream",
     "text": [
      "Enter a word to check if it is a Python keyword: for\n",
      "'for' is a Python keyword.\n"
     ]
    }
   ],
   "source": [
    "import keyword\n",
    "\n",
    "# Function to check if a word is a Python keyword\n",
    "def is_keyword(word):\n",
    "    return keyword.iskeyword(word)\n",
    "\n",
    "# Get user input\n",
    "word = input(\"Enter a word to check if it is a Python keyword: \")\n",
    "\n",
    "# Check if the word is a keyword and print the result\n",
    "if is_keyword(word):\n",
    "    print(f\"'{word}' is a Python keyword.\")\n",
    "else:\n",
    "    print(f\"'{word}' is not a Python keyword.\")\n"
   ]
  },
  {
   "cell_type": "markdown",
   "id": "8cc4ee9c",
   "metadata": {},
   "source": [
    "### 5. Create a list and tuple in Python, and demonstrate how attempting to change an element works differently for each."
   ]
  },
  {
   "cell_type": "code",
   "execution_count": 44,
   "id": "bc4e626b",
   "metadata": {},
   "outputs": [],
   "source": [
    "# Creating a list\n",
    "my_list = [1, 2, 3]\n",
    "\n",
    "# Creating a tuple\n",
    "my_tuple = (1, 2, 3)\n"
   ]
  },
  {
   "cell_type": "markdown",
   "id": "129577c3",
   "metadata": {},
   "source": [
    "- #### Attempting to Change an Element in the List\n",
    "    Lists in Python are mutable, which means one can change their elements."
   ]
  },
  {
   "cell_type": "code",
   "execution_count": 45,
   "id": "192aa35e",
   "metadata": {},
   "outputs": [
    {
     "name": "stdout",
     "output_type": "stream",
     "text": [
      "Modified list: [10, 2, 3]\n"
     ]
    }
   ],
   "source": [
    "# Changing an element in the list\n",
    "my_list[0] = 10\n",
    "print(\"Modified list:\", my_list)\n"
   ]
  },
  {
   "cell_type": "markdown",
   "id": "3e64991f",
   "metadata": {},
   "source": [
    "- #### Attempting to Change an Element in the Tuple\n",
    "    Tuples in Python are immutable, which means one cannot change their elements. Attempting to do so will result in an error."
   ]
  },
  {
   "cell_type": "code",
   "execution_count": 46,
   "id": "0d0850ca",
   "metadata": {},
   "outputs": [
    {
     "name": "stdout",
     "output_type": "stream",
     "text": [
      "Error: 'tuple' object does not support item assignment\n"
     ]
    }
   ],
   "source": [
    "# Trying to change an element in the tuple\n",
    "try:\n",
    "    my_tuple[0] = 10\n",
    "except TypeError as e:\n",
    "    print(\"Error:\", e)\n"
   ]
  },
  {
   "cell_type": "markdown",
   "id": "8941723a",
   "metadata": {},
   "source": [
    "### 6. Write a function to demonstrate the behavior of mutable and immutable arguments.\n"
   ]
  },
  {
   "cell_type": "code",
   "execution_count": 48,
   "id": "cd0fe717",
   "metadata": {},
   "outputs": [
    {
     "name": "stdout",
     "output_type": "stream",
     "text": [
      "Before function call - my_list: [1, 2, 3]\n",
      "Before function call - my_tuple: (1, 2, 3)\n",
      "Inside function - mutable_arg: [1, 2, 3, 4]\n",
      "Inside function - immutable_arg: (1, 2, 3, 4)\n",
      "After function call - my_list: [1, 2, 3, 4]\n",
      "After function call - my_tuple: (1, 2, 3)\n"
     ]
    }
   ],
   "source": [
    "def modify_arguments(mutable_arg, immutable_arg):\n",
    "    # Modify the mutable argument (list)\n",
    "    mutable_arg.append(4)\n",
    "    \n",
    "    # Attempt to modify the immutable argument (tuple)\n",
    "    try:\n",
    "        immutable_arg += (4,)\n",
    "    except TypeError as e:\n",
    "        print(\"Error:\", e)\n",
    "    \n",
    "    print(\"Inside function - mutable_arg:\", mutable_arg)\n",
    "    print(\"Inside function - immutable_arg:\", immutable_arg)\n",
    "\n",
    "# Initial values\n",
    "my_list = [1, 2, 3]\n",
    "my_tuple = (1, 2, 3)\n",
    "\n",
    "print(\"Before function call - my_list:\", my_list)\n",
    "print(\"Before function call - my_tuple:\", my_tuple)\n",
    "\n",
    "# Call the function\n",
    "modify_arguments(my_list, my_tuple)\n",
    "\n",
    "print(\"After function call - my_list:\", my_list)\n",
    "print(\"After function call - my_tuple:\", my_tuple)\n"
   ]
  },
  {
   "cell_type": "markdown",
   "id": "cb33e6d1",
   "metadata": {},
   "source": [
    "### 7. Write a program that performs basic arithmetic operations on two user-input numbers.\n"
   ]
  },
  {
   "cell_type": "code",
   "execution_count": 49,
   "id": "61686095",
   "metadata": {},
   "outputs": [
    {
     "name": "stdout",
     "output_type": "stream",
     "text": [
      "Enter the first number: 10\n",
      "Enter the second number: 20\n",
      "Addition: 30.0\n",
      "Subtraction: -10.0\n",
      "Multiplication: 200.0\n",
      "Division: 0.5\n"
     ]
    }
   ],
   "source": [
    "# Function to perform basic arithmetic operations\n",
    "def arithmetic_operations(num1, num2):\n",
    "    addition = num1 + num2\n",
    "    subtraction = num1 - num2\n",
    "    multiplication = num1 * num2\n",
    "    division = num1 / num2 if num2 != 0 else \"Division by zero is not allowed\"\n",
    "    \n",
    "    print(f\"Addition: {addition}\")\n",
    "    print(f\"Subtraction: {subtraction}\")\n",
    "    print(f\"Multiplication: {multiplication}\")\n",
    "    print(f\"Division: {division}\")\n",
    "\n",
    "# Get user input for two numbers\n",
    "try:\n",
    "    number1 = float(input(\"Enter the first number: \"))\n",
    "    number2 = float(input(\"Enter the second number: \"))\n",
    "    \n",
    "    # Perform arithmetic operations\n",
    "    arithmetic_operations(number1, number2)\n",
    "except ValueError:\n",
    "    print(\"Invalid input. Please enter numeric values.\")\n"
   ]
  },
  {
   "cell_type": "markdown",
   "id": "2d2defed",
   "metadata": {},
   "source": [
    "### 8. Write a program to demonstrate the use of logical operators."
   ]
  },
  {
   "cell_type": "code",
   "execution_count": 50,
   "id": "60a72083",
   "metadata": {},
   "outputs": [
    {
     "name": "stdout",
     "output_type": "stream",
     "text": [
      "Enter the first number: 20\n",
      "Enter the second number: 10\n",
      "20.0 > 0 and 10.0 > 0: True\n",
      "20.0 > 0 or 10.0 > 0: True\n",
      "not (20.0 > 0): False\n"
     ]
    }
   ],
   "source": [
    "# Function to demonstrate logical operators\n",
    "def logical_operators_demo(a, b):\n",
    "    # Logical AND\n",
    "    and_result = (a > 0) and (b > 0)\n",
    "    print(f\"{a} > 0 and {b} > 0: {and_result}\")\n",
    "\n",
    "    # Logical OR\n",
    "    or_result = (a > 0) or (b > 0)\n",
    "    print(f\"{a} > 0 or {b} > 0: {or_result}\")\n",
    "\n",
    "    # Logical NOT\n",
    "    not_result = not (a > 0)\n",
    "    print(f\"not ({a} > 0): {not_result}\")\n",
    "\n",
    "# Get user input for two numbers\n",
    "try:\n",
    "    number1 = float(input(\"Enter the first number: \"))\n",
    "    number2 = float(input(\"Enter the second number: \"))\n",
    "    \n",
    "    # Demonstrate logical operators\n",
    "    logical_operators_demo(number1, number2)\n",
    "except ValueError:\n",
    "    print(\"Invalid input. Please enter numeric values.\")\n"
   ]
  },
  {
   "cell_type": "markdown",
   "id": "4721ed9d",
   "metadata": {},
   "source": [
    "### 9. Write a Python program to convert user input from string to integer, float, and boolean types.\n"
   ]
  },
  {
   "cell_type": "code",
   "execution_count": 54,
   "id": "fe7c566b",
   "metadata": {},
   "outputs": [
    {
     "name": "stdout",
     "output_type": "stream",
     "text": [
      "Enter a value: 45\n",
      "Integer: 45\n",
      "Float: 45.0\n",
      "Boolean: True\n"
     ]
    }
   ],
   "source": [
    "# Function to convert and print different types\n",
    "def convert_input(user_input):\n",
    "    try:\n",
    "        # Convert to integer\n",
    "        int_value = int(user_input)\n",
    "        print(f\"Integer: {int_value}\")\n",
    "    except ValueError:\n",
    "        print(\"Invalid input for integer conversion.\")\n",
    "    \n",
    "    try:\n",
    "        # Convert to float\n",
    "        float_value = float(user_input)\n",
    "        print(f\"Float: {float_value}\")\n",
    "    except ValueError:\n",
    "        print(\"Invalid input for float conversion.\")\n",
    "    \n",
    "    # Convert to boolean\n",
    "    bool_value = bool(user_input)\n",
    "    print(f\"Boolean: {bool_value}\")\n",
    "\n",
    "# Get user input as a string\n",
    "user_input = input(\"Enter a value: \")\n",
    "\n",
    "# Call the function to perform conversions\n",
    "convert_input(user_input)\n"
   ]
  },
  {
   "cell_type": "markdown",
   "id": "c1b756b6",
   "metadata": {},
   "source": [
    "### 10. Write code to demonstrate type casting with list elements."
   ]
  },
  {
   "cell_type": "code",
   "execution_count": 55,
   "id": "a0af653a",
   "metadata": {},
   "outputs": [
    {
     "name": "stdout",
     "output_type": "stream",
     "text": [
      "Original list of strings: ['10', '20', '30', '40.5', '50.75']\n",
      "List of integers: [10, 20, 30, 40, 50]\n",
      "List of floats: [10.0, 20.0, 30.0, 40.5, 50.75]\n"
     ]
    }
   ],
   "source": [
    "# Original list of strings\n",
    "string_list = [\"10\", \"20\", \"30\", \"40.5\", \"50.75\"]\n",
    "\n",
    "# Converting to integers (ignoring the elements that cannot be converted)\n",
    "int_list = []\n",
    "for item in string_list:\n",
    "    try:\n",
    "        int_list.append(int(float(item)))\n",
    "    except ValueError:\n",
    "        pass\n",
    "\n",
    "# Converting to floats\n",
    "float_list = []\n",
    "for item in string_list:\n",
    "    try:\n",
    "        float_list.append(float(item))\n",
    "    except ValueError:\n",
    "        pass\n",
    "\n",
    "# Print the results\n",
    "print(\"Original list of strings:\", string_list)\n",
    "print(\"List of integers:\", int_list)\n",
    "print(\"List of floats:\", float_list)\n"
   ]
  },
  {
   "cell_type": "markdown",
   "id": "5a9eac04",
   "metadata": {},
   "source": [
    "### 11. Write a program that checks if a number is positive, negative, or zero.\n"
   ]
  },
  {
   "cell_type": "code",
   "execution_count": 56,
   "id": "0aa1d79e",
   "metadata": {},
   "outputs": [
    {
     "name": "stdout",
     "output_type": "stream",
     "text": [
      "Enter a number: -24\n",
      "The number is negative.\n"
     ]
    }
   ],
   "source": [
    "# Function to check if a number is positive, negative, or zero\n",
    "def check_number(num):\n",
    "    if num > 0:\n",
    "        print(\"The number is positive.\")\n",
    "    elif num < 0:\n",
    "        print(\"The number is negative.\")\n",
    "    else:\n",
    "        print(\"The number is zero.\")\n",
    "\n",
    "# Get user input\n",
    "try:\n",
    "    number = float(input(\"Enter a number: \"))\n",
    "    \n",
    "    # Check the number\n",
    "    check_number(number)\n",
    "except ValueError:\n",
    "    print(\"Invalid input. Please enter a numeric value.\")\n"
   ]
  },
  {
   "cell_type": "markdown",
   "id": "179fc7ec",
   "metadata": {},
   "source": [
    "### 12. Write a for loop to print numbers from 1 to 10."
   ]
  },
  {
   "cell_type": "code",
   "execution_count": 57,
   "id": "a7c0ff01",
   "metadata": {},
   "outputs": [
    {
     "name": "stdout",
     "output_type": "stream",
     "text": [
      "1\n",
      "2\n",
      "3\n",
      "4\n",
      "5\n",
      "6\n",
      "7\n",
      "8\n",
      "9\n",
      "10\n"
     ]
    }
   ],
   "source": [
    "# For loop to print numbers from 1 to 10\n",
    "for number in range(1, 11):\n",
    "    print(number)\n"
   ]
  },
  {
   "cell_type": "markdown",
   "id": "fc0b0192",
   "metadata": {},
   "source": [
    "### 13. Write a Python program to find the sum of all even numbers between 1 and 50.\n"
   ]
  },
  {
   "cell_type": "code",
   "execution_count": 58,
   "id": "b74b7bdc",
   "metadata": {},
   "outputs": [
    {
     "name": "stdout",
     "output_type": "stream",
     "text": [
      "The sum of all even numbers between 1 and 50 is: 650\n"
     ]
    }
   ],
   "source": [
    "# Initialize the sum variable\n",
    "sum_of_evens = 0\n",
    "\n",
    "# Loop through numbers from 1 to 50\n",
    "for number in range(1, 51):\n",
    "    # Check if the number is even\n",
    "    if number % 2 == 0:\n",
    "        # Add the even number to the sum\n",
    "        sum_of_evens += number\n",
    "\n",
    "# Print the result\n",
    "print(\"The sum of all even numbers between 1 and 50 is:\", sum_of_evens)\n"
   ]
  },
  {
   "cell_type": "markdown",
   "id": "c3a7d2f8",
   "metadata": {},
   "source": [
    "### 14. Write a program to reverse a string using a while loop."
   ]
  },
  {
   "cell_type": "code",
   "execution_count": 60,
   "id": "18767a8c",
   "metadata": {},
   "outputs": [
    {
     "name": "stdout",
     "output_type": "stream",
     "text": [
      "Enter a string to reverse: Swagata\n",
      "Reversed string: atagawS\n"
     ]
    }
   ],
   "source": [
    "# Function to reverse a string using a while loop\n",
    "def reverse_string(input_string):\n",
    "    # Initialize variables\n",
    "    reversed_string = \"\"\n",
    "    index = len(input_string) - 1\n",
    "    \n",
    "    # Loop through the string in reverse order\n",
    "    while index >= 0:\n",
    "        reversed_string += input_string[index]\n",
    "        index -= 1\n",
    "        \n",
    "    return reversed_string\n",
    "\n",
    "# Get user input\n",
    "user_string = input(\"Enter a string to reverse: \")\n",
    "\n",
    "# Reverse the string and print the result\n",
    "reversed_user_string = reverse_string(user_string)\n",
    "print(\"Reversed string:\", reversed_user_string)\n"
   ]
  },
  {
   "cell_type": "markdown",
   "id": "830887ca",
   "metadata": {},
   "source": [
    "### 15. Write a Python program to calculate the factorial of a number provided by the user using a while loop."
   ]
  },
  {
   "cell_type": "code",
   "execution_count": 61,
   "id": "97bc2fa5",
   "metadata": {},
   "outputs": [
    {
     "name": "stdout",
     "output_type": "stream",
     "text": [
      "Enter a positive integer: 25\n",
      "The factorial of 25 is 15511210043330985984000000.\n"
     ]
    }
   ],
   "source": [
    "# Function to calculate the factorial of a number using a while loop\n",
    "def calculate_factorial(number):\n",
    "    # Initialize the result variable\n",
    "    factorial = 1\n",
    "    \n",
    "    # Initialize the counter\n",
    "    counter = 1\n",
    "    \n",
    "    # Loop to calculate the factorial\n",
    "    while counter <= number:\n",
    "        factorial *= counter\n",
    "        counter += 1\n",
    "        \n",
    "    return factorial\n",
    "\n",
    "# Get user input\n",
    "try:\n",
    "    user_input = int(input(\"Enter a positive integer: \"))\n",
    "    \n",
    "    if user_input < 0:\n",
    "        print(\"Please enter a positive integer.\")\n",
    "    else:\n",
    "        # Calculate the factorial\n",
    "        result = calculate_factorial(user_input)\n",
    "        print(f\"The factorial of {user_input} is {result}.\")\n",
    "except ValueError:\n",
    "    print(\"Invalid input. Please enter a positive integer.\")\n"
   ]
  },
  {
   "cell_type": "code",
   "execution_count": null,
   "id": "ba05333b",
   "metadata": {},
   "outputs": [],
   "source": []
  }
 ],
 "metadata": {
  "kernelspec": {
   "display_name": "Python 3 (ipykernel)",
   "language": "python",
   "name": "python3"
  },
  "language_info": {
   "codemirror_mode": {
    "name": "ipython",
    "version": 3
   },
   "file_extension": ".py",
   "mimetype": "text/x-python",
   "name": "python",
   "nbconvert_exporter": "python",
   "pygments_lexer": "ipython3",
   "version": "3.7.16"
  }
 },
 "nbformat": 4,
 "nbformat_minor": 5
}
